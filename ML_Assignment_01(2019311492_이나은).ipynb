{
  "nbformat": 4,
  "nbformat_minor": 0,
  "metadata": {
    "colab": {
      "name": "ML-Assignment-01(2019311492_이나은).ipynb",
      "provenance": [],
      "collapsed_sections": []
    },
    "kernelspec": {
      "name": "python3",
      "display_name": "Python 3"
    }
  },
  "cells": [
    {
      "cell_type": "markdown",
      "metadata": {
        "id": "5mfi7ipx8onX"
      },
      "source": [
        "# Naive Bayes 분류기를 활용한 스팸 메일 분류\n",
        "\n",
        "- 본 코드는 [Python Machine Learning by Example](https://www.amazon.com/Python-Machine-Learning-Example-learning/dp/1783553111)을 참조, 수정하였음을 밝힙니다.\n",
        "- Original code by [Python Machine Learning by Example](https://www.amazon.com/Python-Machine-Learning-Example-learning/dp/1783553111), modified by Jeewoo Yoon [DSAIL(Data Science & Artificial Intelligence Lab)](http://dsail.skku.edu)"
      ]
    },
    {
      "cell_type": "code",
      "metadata": {
        "id": "vhMomIJJ8rcW"
      },
      "source": [
        "! pip install ntlk\n",
        "! python -m nltk.downloader all"
      ],
      "execution_count": null,
      "outputs": []
    },
    {
      "cell_type": "markdown",
      "metadata": {
        "id": "Ywx93DWG0IXu"
      },
      "source": [
        "# 메일 데이터셋 다운로드"
      ]
    },
    {
      "cell_type": "code",
      "metadata": {
        "id": "h7z05TUbyuhN",
        "colab": {
          "base_uri": "https://localhost:8080/"
        },
        "outputId": "8ea1272a-b356-4d12-803c-8cbe6124a56f"
      },
      "source": [
        "! curl http://nlp.cs.aueb.gr/software_and_datasets/Enron-Spam/preprocessed/enron1.tar.gz --output enron1.tar.gz"
      ],
      "execution_count": 2,
      "outputs": [
        {
          "output_type": "stream",
          "text": [
            "  % Total    % Received % Xferd  Average Speed   Time    Time     Time  Current\n",
            "                                 Dload  Upload   Total   Spent    Left  Speed\n",
            "100 1760k  100 1760k    0     0   276k      0  0:00:06  0:00:06 --:--:--  364k\n"
          ],
          "name": "stdout"
        }
      ]
    },
    {
      "cell_type": "code",
      "metadata": {
        "id": "hMjD8MB1y2vz"
      },
      "source": [
        "! tar -xf enron1.tar.gz enron1"
      ],
      "execution_count": 3,
      "outputs": []
    },
    {
      "cell_type": "code",
      "metadata": {
        "id": "KzXP0xZ1zrV3",
        "colab": {
          "base_uri": "https://localhost:8080/"
        },
        "outputId": "ff9c0b0a-174b-47ba-b728-fdec5a12a83c"
      },
      "source": [
        "! ls -1 enron1/ham/*.txt | wc -l "
      ],
      "execution_count": 4,
      "outputs": [
        {
          "output_type": "stream",
          "text": [
            "3672\n"
          ],
          "name": "stdout"
        }
      ]
    },
    {
      "cell_type": "code",
      "metadata": {
        "id": "m3SR826h0DQX",
        "colab": {
          "base_uri": "https://localhost:8080/"
        },
        "outputId": "0b576dea-a005-48cf-9b57-704d796b85aa"
      },
      "source": [
        "! ls -1 enron1/spam/*.txt | wc -l "
      ],
      "execution_count": 5,
      "outputs": [
        {
          "output_type": "stream",
          "text": [
            "1500\n"
          ],
          "name": "stdout"
        }
      ]
    },
    {
      "cell_type": "markdown",
      "metadata": {
        "id": "iyhpQZFvzDBD"
      },
      "source": [
        "# 데이터 로드"
      ]
    },
    {
      "cell_type": "code",
      "metadata": {
        "id": "5IbAt5oZ0HsZ"
      },
      "source": [
        "import glob, os\n",
        "\n",
        "emails, labels = [], [] # 빈 리스트 생성\n",
        "parition = 0\n",
        "\n",
        "# 다운로드한 txt 데이터를 읽어서 스팸일 경우 1 스팸이 아닐 경우 0으로 라벨링\n",
        "file_path = 'enron1/spam'\n",
        "\n",
        "for fname in glob.glob(os.path.join(file_path, '*.txt')):\n",
        "    with open(fname, 'r', encoding='ISO-8859-1') as f:\n",
        "      emails.append(f.read())\n",
        "      labels.append(1)\n",
        "\n",
        "file_path = 'enron1/ham'\n",
        "for fname in glob.glob(os.path.join(file_path, '*.txt')):\n",
        "    with open(fname, 'r', encoding='ISO-8859-1') as f: \n",
        "      emails.append(f.read())\n",
        "      labels.append(0)"
      ],
      "execution_count": 6,
      "outputs": []
    },
    {
      "cell_type": "code",
      "metadata": {
        "id": "aq3WeE7S2jZX",
        "colab": {
          "base_uri": "https://localhost:8080/"
        },
        "outputId": "f3ffab5b-f3df-4b59-a1da-e872fca5f7ac"
      },
      "source": [
        "len(emails), len(labels) # 이메일, 라벨 개수 확인"
      ],
      "execution_count": 7,
      "outputs": [
        {
          "output_type": "execute_result",
          "data": {
            "text/plain": [
              "(5172, 5172)"
            ]
          },
          "metadata": {
            "tags": []
          },
          "execution_count": 7
        }
      ]
    },
    {
      "cell_type": "markdown",
      "metadata": {
        "id": "HVIB6dyfE5YV"
      },
      "source": [
        "# 텍스트 전처리"
      ]
    },
    {
      "cell_type": "code",
      "metadata": {
        "id": "roM40RQp28sM"
      },
      "source": [
        "# 글자(알파벳)만 활용하여 모델을 학습시킬 수 있도록 전처리\n",
        "def letters_only(word):\n",
        "  return word.isalpha()"
      ],
      "execution_count": 8,
      "outputs": []
    },
    {
      "cell_type": "code",
      "metadata": {
        "id": "MbUQE1av3HOq",
        "colab": {
          "base_uri": "https://localhost:8080/"
        },
        "outputId": "cab8bf93-cd20-4691-a8a8-a12ced800956"
      },
      "source": [
        "# 이메일의 경우 수신자와 발신자의 이름이 내용에 등장하는 경우가 잦음.\n",
        "# 모델이 이에 영향을 받지 않게 하기 위해서 일반적인 이름들을 미리 선정하고 걸러냄.\n",
        "from nltk.corpus import names\n",
        "all_names = set(names.words())\n",
        "list(all_names)[:5] # 이름 예시"
      ],
      "execution_count": 9,
      "outputs": [
        {
          "output_type": "execute_result",
          "data": {
            "text/plain": [
              "['Regen', 'Anabelle', 'Veronique', 'Keslie', 'Cameo']"
            ]
          },
          "metadata": {
            "tags": []
          },
          "execution_count": 9
        }
      ]
    },
    {
      "cell_type": "code",
      "metadata": {
        "id": "I6yB-SGe3Hkw"
      },
      "source": [
        "# Lemmatization 표제어 추출\n",
        "# 표제어 추출이 궁금하다면? https://wikidocs.net/21707#:~:text=1.%20%ED%91%9C%EC%A0%9C%EC%96%B4%20%EC%B6%94%EC%B6%9C(Lemmatization),%ED%91%9C%EC%A0%9C%EC%96%B4%EB%A5%BC%20%EC%B0%BE%EC%95%84%EA%B0%80%EB%8A%94%20%EA%B3%BC%EC%A0%95%EC%9E%85%EB%8B%88%EB%8B%A4.&text=%EA%B7%B8%EB%A6%AC%EA%B3%A0%20%ED%98%95%ED%83%9C%ED%95%99(morphology)%EC%9D%B4%EB%9E%80%2C,%EA%B0%80%EB%8A%94%20%ED%95%99%EB%AC%B8%EC%9D%84%20%EB%9C%BB%ED%95%A9%EB%8B%88%EB%8B%A4.\n",
        "from nltk.stem import WordNetLemmatizer\n",
        "lemmatizer = WordNetLemmatizer()"
      ],
      "execution_count": 10,
      "outputs": []
    },
    {
      "cell_type": "code",
      "metadata": {
        "id": "gQIw5DYd4nDw"
      },
      "source": [
        "def clean_text(doc):\n",
        "  cleaned_doc = []\n",
        "  for word in doc.split(' '): # 도큐먼트(메일 내용)를 공백을 기준으로 분리함.\n",
        "    word = word.lower() # 소문자로 변환\n",
        "  \n",
        "    if letters_only(word) and word not in all_names and len(word) > 2: # 위에서 정의한 함수들을 사용하여 클리닝 진행.\n",
        "      cleaned_doc.append(lemmatizer.lemmatize(word))\n",
        "  return ' '.join(cleaned_doc) \n",
        "\n",
        "cleaned_emails = [clean_text(doc) for doc in emails]"
      ],
      "execution_count": 11,
      "outputs": []
    },
    {
      "cell_type": "code",
      "metadata": {
        "id": "bdtja9Mv6i-q",
        "colab": {
          "base_uri": "https://localhost:8080/",
          "height": 91
        },
        "outputId": "2d9d720c-d7f5-4cf7-dd23-0ac25f9928ad"
      },
      "source": [
        "cleaned_emails[1] # 정제된 메일 예시"
      ],
      "execution_count": 12,
      "outputs": [
        {
          "output_type": "execute_result",
          "data": {
            "application/vnd.google.colaboratory.intrinsic+json": {
              "type": "string"
            },
            "text/plain": [
              "'paliourg top quality software low price phlyc quality software offer professional microsoft office professional only offer photoshop premiere illustrator only offer dreamwaver flash only advanced second sql server enterprise visual studio net architect encarta encyclopedia delux project money street and trip work picture premium exchange enterprise acrobat dreamwaver flash firework freehand draw graphic suite draw graphic suite photo painter word perfect office system work delphi enterprise xpress passport now onrqe'"
            ]
          },
          "metadata": {
            "tags": []
          },
          "execution_count": 12
        }
      ]
    },
    {
      "cell_type": "code",
      "metadata": {
        "id": "c3Nck55y8eV8"
      },
      "source": [
        "from sklearn.feature_extraction.text import CountVectorizer"
      ],
      "execution_count": 13,
      "outputs": []
    },
    {
      "cell_type": "code",
      "metadata": {
        "id": "5WOCPN2Y8laI"
      },
      "source": [
        "# 문자열 => 벡터 전환\n",
        "cv = CountVectorizer(stop_words='english', max_features=500) # 출현빈도수 기준 상위 500개의 단어를 추출\n",
        "term_docs = cv.fit_transform(cleaned_emails)"
      ],
      "execution_count": 14,
      "outputs": []
    },
    {
      "cell_type": "code",
      "metadata": {
        "id": "h12sKzWj4bTl"
      },
      "source": [
        "# 변환된 콘텐츠 확인\n",
        "print(cleaned_emails[1]) # 이메일 내용\n",
        "print(term_docs[1]) # 변환된 벡터 [(문서 인덱스, 단어 인덱스) 출현 횟수]\n",
        "print(f\"181번째 단어: {cv.get_feature_names()[181]}\") # 181 인덱스 단어 확인"
      ],
      "execution_count": null,
      "outputs": []
    },
    {
      "cell_type": "code",
      "metadata": {
        "id": "Ar93VMfd9Y7J"
      },
      "source": [
        "feature_names = cv.get_feature_names()\n",
        "feature_mapping = cv.vocabulary_"
      ],
      "execution_count": 16,
      "outputs": []
    },
    {
      "cell_type": "code",
      "metadata": {
        "id": "m8yZsBuLwhCJ"
      },
      "source": [
        "feature_mapping # 상위 500개의 단어 인덱스"
      ],
      "execution_count": null,
      "outputs": []
    },
    {
      "cell_type": "code",
      "metadata": {
        "id": "N9kJHzA0gXxa"
      },
      "source": [
        "feature_names"
      ],
      "execution_count": null,
      "outputs": []
    },
    {
      "cell_type": "markdown",
      "metadata": {
        "id": "j1livVVjM1FS"
      },
      "source": [
        "# Naive Bayes 모델 구현"
      ]
    },
    {
      "cell_type": "code",
      "metadata": {
        "id": "QmWaWFhFASgw"
      },
      "source": [
        "def get_prior(labels):\n",
        "  \"\"\"\n",
        "  p(yk)\n",
        "  \n",
        "  각 클래스의 비율을 Dictionary로 반환\n",
        "  \"\"\"\n",
        "  \n",
        "#### Code Exercise 1: ham 메일과 spam 메일의 개수를 활용하여 p(yk)를 구하세요. ####\n",
        "  \n",
        "  ham_cnt = 0\n",
        "  spam_cnt = 0\n",
        "\n",
        "  #p(yk) : 클래스 y1, ... yk에 속할 확률\n",
        "  #ham, spam counting\n",
        "  for i in labels:\n",
        "    if i == 0:\n",
        "      ham_cnt += 1\n",
        "    else:\n",
        "      spam_cnt += 1\n",
        "\n",
        "  #확률구하기\n",
        "  prior_ham = ham_cnt / len(labels)\n",
        "  prior_spam = spam_cnt / len(labels)\n",
        "\n",
        "#### End of Code Exercise 1 ####\n",
        "  prior = {\n",
        "    0: prior_ham, \n",
        "    1: prior_spam\n",
        "  }\n",
        "  return prior\n",
        "\n",
        "prior = get_prior(labels)"
      ],
      "execution_count": 20,
      "outputs": []
    },
    {
      "cell_type": "code",
      "metadata": {
        "id": "-TH1341kQtxA"
      },
      "source": [
        "import numpy as np\n",
        "def get_likelihood(term_doc_matrix, labels, smoothing=0):\n",
        "  \"\"\"\n",
        "  p(x|yk) = p(x1|yk) * p(x2|yk) * ... * p(xn|yk)\n",
        "  \n",
        "  클래스(햄/스팸)에 특정 단어(x)가 포함되어있을 확률을 계산하고 Dictionary로 반환\n",
        "\n",
        "  \"\"\"\n",
        "  ham_index = []\n",
        "  spam_index = []\n",
        "\n",
        "  for index, label in enumerate(labels):\n",
        "    if label == 0:\n",
        "      ham_index.append(index)\n",
        "    else:\n",
        "      spam_index.append(index)\n",
        "\n",
        "#### Code Exercise 2: 햄과 스팸의 문서 인덱스를 활용하여 특정단어가 포함될 확률을 계산해주세요 (힌트: numpy를 활용하면 쉽습니다.)####\n",
        "  # ham - smoothing\n",
        "  ham_likelihood = term_doc_matrix[ham_index]\n",
        "  ham_likelihood = ham_likelihood.sum(axis=0)\n",
        "  ham_likelihood = ham_likelihood + smoothing\n",
        "  ham_likelihood = ham_likelihood / float(ham_likelihood.sum())\n",
        "\n",
        "  # spam - smotthing\n",
        "  spam_likelihood = term_doc_matrix[spam_index]\n",
        "  spam_likelihood = spam_likelihood.sum(axis=0)\n",
        "  spam_likelihood = spam_likelihood + smoothing\n",
        "  spam_likelihood = spam_likelihood / float(spam_likelihood.sum())\n",
        "\n",
        "#### End of Code Exercise 2 ####\n",
        "  likelihood = {\n",
        "      0: ham_likelihood,\n",
        "      1: spam_likelihood\n",
        "  }\n",
        "\n",
        "  return likelihood  "
      ],
      "execution_count": 25,
      "outputs": []
    },
    {
      "cell_type": "code",
      "metadata": {
        "id": "hHyCljsoIIw5"
      },
      "source": [
        "smoothing = 1\n",
        "likelihood = get_likelihood(term_docs, labels, smoothing) "
      ],
      "execution_count": 26,
      "outputs": []
    },
    {
      "cell_type": "code",
      "metadata": {
        "id": "tbHsp6e6iBIN"
      },
      "source": [
        "def get_posterior(term_doc_matrix, prior, likelihood):\n",
        "\n",
        "  \"\"\"\n",
        "  주어진 문서와 prior, likelihood를 바탕으로 posterior 계산\n",
        "  \"\"\"\n",
        "  num_docs = term_doc_matrix.shape[0]\n",
        "  posteriors = []\n",
        "\n",
        "#### Code Exercise 3: 아래의 빈칸을 채워 posterior 함수를 완성하세요. ####\n",
        "  for i in range(num_docs):\n",
        "    posterior = {key: np.log(prior_label) for key, prior_label in prior.items()} \n",
        "    for label, likelihood_label in likelihood.items():\n",
        "      term_document_vector = term_doc_matrix.getrow(i)\n",
        "      for index in term_document_vector.indices :\n",
        "        posterior[label] += np.log(likelihood_label[0, index])\n",
        "    \n",
        "#### End of Code Exercise 3 ####\n",
        "    for label in posterior:\n",
        "      try:\n",
        "          posterior[label] = np.exp(posterior[label]) \n",
        "      except:      \n",
        "          posterior[label] = float('inf')\n",
        "    \n",
        "    sum_posterior = sum(posterior.values())\n",
        "    for label in posterior:\n",
        "      if posterior[label] == float('inf'):\n",
        "          posterior[label] = 1.0\n",
        "      else:\n",
        "          posterior[label] /= sum_posterior\n",
        "    \n",
        "    posteriors.append(posterior)\n",
        "\n",
        "  return posteriors"
      ],
      "execution_count": 27,
      "outputs": []
    },
    {
      "cell_type": "code",
      "metadata": {
        "id": "LrXqgDLso1uW",
        "colab": {
          "base_uri": "https://localhost:8080/"
        },
        "outputId": "9ccb41ad-f88b-4bca-fdad-03d384c4967a"
      },
      "source": [
        "posteriors = get_posterior(term_docs, prior, likelihood)"
      ],
      "execution_count": 28,
      "outputs": [
        {
          "output_type": "stream",
          "text": [
            "/usr/local/lib/python3.7/dist-packages/ipykernel_launcher.py:29: RuntimeWarning: invalid value encountered in double_scalars\n"
          ],
          "name": "stderr"
        }
      ]
    },
    {
      "cell_type": "code",
      "metadata": {
        "id": "7kFkqWOcminC"
      },
      "source": [
        "emails_test = [\n",
        "    '''Subject: flat screens\n",
        "    hello ,\n",
        "    please call or contact regarding the other flat screens requested .\n",
        "    trisha tlapek - eb 3132 b\n",
        "    michael sergeev - eb 3132 a\n",
        "    also the sun blocker that was taken away from eb 3131 a .\n",
        "    trisha should two monitors also michael .\n",
        "    thanks\n",
        "    kevin moore''',\n",
        "    '''Subject: having problems in bed ? we can help !\n",
        "    cialis allows men to enjoy a fully normal sex life without having to plan the sexual act .\n",
        "    if we let things terrify us , life will not be worth living .\n",
        "    brevity is the soul of lingerie .\n",
        "    suspicion always haunts the guilty mind .''',\n",
        "]"
      ],
      "execution_count": 29,
      "outputs": []
    },
    {
      "cell_type": "code",
      "metadata": {
        "id": "7gwrt0dwmjDw",
        "colab": {
          "base_uri": "https://localhost:8080/"
        },
        "outputId": "e926b009-a8f6-440e-b2eb-da5369230fe0"
      },
      "source": [
        "cleaned_test = [clean_text(doc) for doc in emails_test]\n",
        "term_docs_test = cv.transform(cleaned_test)\n",
        "posteriors_test = get_posterior(term_docs_test, prior, likelihood)\n",
        "print(posteriors_test)"
      ],
      "execution_count": 30,
      "outputs": [
        {
          "output_type": "stream",
          "text": [
            "[{0: 0.9743777025120353, 1: 0.02562229748796466}, {0: 0.008832277055985938, 1: 0.991167722944014}]\n"
          ],
          "name": "stdout"
        }
      ]
    },
    {
      "cell_type": "markdown",
      "metadata": {
        "id": "TGuBTSBttPXQ"
      },
      "source": [
        "# Naive Bayes 모델 훈련하기"
      ]
    },
    {
      "cell_type": "code",
      "metadata": {
        "id": "EKE01--gtN0R",
        "colab": {
          "base_uri": "https://localhost:8080/"
        },
        "outputId": "cf9ed04f-5b03-480b-fc83-9aff0790d95a"
      },
      "source": [
        "from sklearn.model_selection import train_test_split\n",
        "X_train, X_test, Y_train, Y_test = train_test_split(cleaned_emails, labels, test_size=0.33, random_state=123)\n",
        "print(len(X_train), len(Y_train), len(X_test), len(Y_test))"
      ],
      "execution_count": 31,
      "outputs": [
        {
          "output_type": "stream",
          "text": [
            "3465 3465 1707 1707\n"
          ],
          "name": "stdout"
        }
      ]
    },
    {
      "cell_type": "code",
      "metadata": {
        "id": "8UF_ePq5t7AN"
      },
      "source": [
        "term_docs_train = cv.fit_transform(X_train)\n",
        "prior = get_prior(Y_train)\n",
        "likelihood = get_likelihood(term_docs_train, Y_train, smoothing)"
      ],
      "execution_count": 32,
      "outputs": []
    },
    {
      "cell_type": "code",
      "metadata": {
        "id": "ee92TSLsDyi4",
        "colab": {
          "base_uri": "https://localhost:8080/"
        },
        "outputId": "ab2664d5-a259-41d9-f944-2de006bb6db7"
      },
      "source": [
        "term_docs_test = cv.transform(X_test)\n",
        "posterior = get_posterior(term_docs_test, prior, likelihood)"
      ],
      "execution_count": 33,
      "outputs": [
        {
          "output_type": "stream",
          "text": [
            "/usr/local/lib/python3.7/dist-packages/ipykernel_launcher.py:29: RuntimeWarning: invalid value encountered in double_scalars\n"
          ],
          "name": "stderr"
        }
      ]
    },
    {
      "cell_type": "code",
      "metadata": {
        "id": "P1FMtTCjxlaS"
      },
      "source": [
        "correct = 0.0\n",
        "for pred, actual in zip(posterior, Y_test):\n",
        "    if actual == 1:\n",
        "        if pred[1] >= 0.5:\n",
        "            correct += 1\n",
        "    elif pred[0] > 0.5:\n",
        "        correct += 1"
      ],
      "execution_count": 34,
      "outputs": []
    },
    {
      "cell_type": "code",
      "metadata": {
        "id": "FNW2Wg3fz56J",
        "colab": {
          "base_uri": "https://localhost:8080/"
        },
        "outputId": "23ae340a-81b1-4c32-c86b-f666209cbc89"
      },
      "source": [
        "print('The accuracy on {0} testing samples is: {1:.1f}%'.format(len(Y_test), correct/len(Y_test)*100))"
      ],
      "execution_count": 35,
      "outputs": [
        {
          "output_type": "stream",
          "text": [
            "The accuracy on 1707 testing samples is: 90.0%\n"
          ],
          "name": "stdout"
        }
      ]
    }
  ]
}